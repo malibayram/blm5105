{
 "cells": [
  {
   "cell_type": "code",
   "execution_count": 2,
   "metadata": {},
   "outputs": [
    {
     "name": "stderr",
     "output_type": "stream",
     "text": [
      "2023-01-08 19:16:11.611845: I tensorflow/core/platform/cpu_feature_guard.cc:193] This TensorFlow binary is optimized with oneAPI Deep Neural Network Library (oneDNN) to use the following CPU instructions in performance-critical operations:  AVX2 FMA\n",
      "To enable them in other operations, rebuild TensorFlow with the appropriate compiler flags.\n"
     ]
    }
   ],
   "source": [
    "import tensorflow as tf\n",
    "import pandas as pd\n",
    "import numpy as np\n",
    "from itertools import islice\n",
    "import io\n",
    "import json\n",
    "from sklearn.utils import shuffle"
   ]
  },
  {
   "cell_type": "code",
   "execution_count": 3,
   "metadata": {},
   "outputs": [],
   "source": [
    "yorumdf = pd.read_csv('./tabloYorumlar.csv')\n",
    "yorum_datab = yorumdf['Baslik'].values.tolist()\n",
    "yorum_datay = yorumdf['Yorum'].values.tolist()"
   ]
  },
  {
   "cell_type": "code",
   "execution_count": 4,
   "metadata": {},
   "outputs": [
    {
     "data": {
      "text/plain": [
       "508202"
      ]
     },
     "execution_count": 4,
     "metadata": {},
     "output_type": "execute_result"
    }
   ],
   "source": [
    "yorum_metinleri = [str(s) for s in yorum_datab + yorum_datay]\n",
    "len(yorum_metinleri)"
   ]
  },
  {
   "cell_type": "code",
   "execution_count": 5,
   "metadata": {},
   "outputs": [],
   "source": [
    "tokenizer = tf.keras.preprocessing.text.Tokenizer(num_words=None, filters='!\"#$%&()*+,-./:;<=>?@[\\\\]^_`{|}~\\t\\n', lower=True, split=' ', char_level=False, oov_token=None, document_count=0)"
   ]
  },
  {
   "cell_type": "code",
   "execution_count": 6,
   "metadata": {},
   "outputs": [],
   "source": [
    "tokenizer.fit_on_texts(yorum_metinleri)"
   ]
  },
  {
   "cell_type": "code",
   "execution_count": 7,
   "metadata": {},
   "outputs": [],
   "source": [
    "tokenizer_json = tokenizer.to_json()\n",
    "with io.open('tf_tokenizer.json', 'w', encoding='utf-8') as f:\n",
    "    f.write(json.dumps(tokenizer_json, ensure_ascii=False))\n"
   ]
  },
  {
   "cell_type": "code",
   "execution_count": null,
   "metadata": {},
   "outputs": [],
   "source": []
  },
  {
   "cell_type": "code",
   "execution_count": 26,
   "metadata": {},
   "outputs": [],
   "source": [
    "def take(n, iterable):\n",
    "    \"Return first n items of the iterable as a list\"\n",
    "    return islice(iterable, n)"
   ]
  },
  {
   "cell_type": "code",
   "execution_count": 36,
   "metadata": {},
   "outputs": [
    {
     "data": {
      "text/plain": [
       "20000"
      ]
     },
     "execution_count": 36,
     "metadata": {},
     "output_type": "execute_result"
    }
   ],
   "source": [
    "n_items_20000 = [s[0] for s in list(take(20000, tokenizer.word_index.items()))]\n",
    "len(n_items_20000)"
   ]
  },
  {
   "cell_type": "code",
   "execution_count": 40,
   "metadata": {},
   "outputs": [],
   "source": [
    "wordDict = dict()\n",
    "for i in range(len(n_items_20000)):    \n",
    "    wordDict[n_items_20000[i]] = i + 1"
   ]
  },
  {
   "cell_type": "code",
   "execution_count": 42,
   "metadata": {},
   "outputs": [],
   "source": [
    "with open('third_tokenizer.json', 'w', encoding='utf-8') as file:\n",
    "    json.dump(wordDict, file, ensure_ascii=False)"
   ]
  },
  {
   "cell_type": "code",
   "execution_count": 62,
   "metadata": {},
   "outputs": [
    {
     "data": {
      "text/html": [
       "<div>\n",
       "<style scoped>\n",
       "    .dataframe tbody tr th:only-of-type {\n",
       "        vertical-align: middle;\n",
       "    }\n",
       "\n",
       "    .dataframe tbody tr th {\n",
       "        vertical-align: top;\n",
       "    }\n",
       "\n",
       "    .dataframe thead th {\n",
       "        text-align: right;\n",
       "    }\n",
       "</style>\n",
       "<table border=\"1\" class=\"dataframe\">\n",
       "  <thead>\n",
       "    <tr style=\"text-align: right;\">\n",
       "      <th></th>\n",
       "      <th>Puan</th>\n",
       "      <th>Baslik</th>\n",
       "      <th>Yorum</th>\n",
       "    </tr>\n",
       "  </thead>\n",
       "  <tbody>\n",
       "    <tr>\n",
       "      <th>0</th>\n",
       "      <td>four</td>\n",
       "      <td>sağlıklı ısınma</td>\n",
       "      <td>radyatörlü ısınmanın daha sağlıklı olduğunu dü...</td>\n",
       "    </tr>\n",
       "    <tr>\n",
       "      <th>1</th>\n",
       "      <td>five</td>\n",
       "      <td>süper</td>\n",
       "      <td>radyatörlü ısıtıcıları hiçbir şeye değişmem di...</td>\n",
       "    </tr>\n",
       "    <tr>\n",
       "      <th>2</th>\n",
       "      <td>five</td>\n",
       "      <td>klasik audio technica standart berrak ses</td>\n",
       "      <td>fiyatını hakkeden iyi bir kulaklık</td>\n",
       "    </tr>\n",
       "    <tr>\n",
       "      <th>3</th>\n",
       "      <td>four</td>\n",
       "      <td>şık ve teknolojik bir aksesuar</td>\n",
       "      <td>ürün başarılı ve güzel bir tamamlayıcı aksesua...</td>\n",
       "    </tr>\n",
       "    <tr>\n",
       "      <th>4</th>\n",
       "      <td>four</td>\n",
       "      <td>Şık ve kullanışlı</td>\n",
       "      <td>Ürün oldukça güzel tasarlanmış ve kullanışlı F...</td>\n",
       "    </tr>\n",
       "  </tbody>\n",
       "</table>\n",
       "</div>"
      ],
      "text/plain": [
       "   Puan                                     Baslik  \\\n",
       "0  four                            sağlıklı ısınma   \n",
       "1  five                                      süper   \n",
       "2  five  klasik audio technica standart berrak ses   \n",
       "3  four             şık ve teknolojik bir aksesuar   \n",
       "4  four                          Şık ve kullanışlı   \n",
       "\n",
       "                                               Yorum  \n",
       "0  radyatörlü ısınmanın daha sağlıklı olduğunu dü...  \n",
       "1  radyatörlü ısıtıcıları hiçbir şeye değişmem di...  \n",
       "2                 fiyatını hakkeden iyi bir kulaklık  \n",
       "3  ürün başarılı ve güzel bir tamamlayıcı aksesua...  \n",
       "4  Ürün oldukça güzel tasarlanmış ve kullanışlı F...  "
      ]
     },
     "execution_count": 62,
     "metadata": {},
     "output_type": "execute_result"
    }
   ],
   "source": [
    "yorumdf.head()"
   ]
  },
  {
   "cell_type": "code",
   "execution_count": 67,
   "metadata": {},
   "outputs": [
    {
     "data": {
      "text/html": [
       "<div>\n",
       "<style scoped>\n",
       "    .dataframe tbody tr th:only-of-type {\n",
       "        vertical-align: middle;\n",
       "    }\n",
       "\n",
       "    .dataframe tbody tr th {\n",
       "        vertical-align: top;\n",
       "    }\n",
       "\n",
       "    .dataframe thead th {\n",
       "        text-align: right;\n",
       "    }\n",
       "</style>\n",
       "<table border=\"1\" class=\"dataframe\">\n",
       "  <thead>\n",
       "    <tr style=\"text-align: right;\">\n",
       "      <th></th>\n",
       "      <th>Puan</th>\n",
       "      <th>Yorum</th>\n",
       "    </tr>\n",
       "  </thead>\n",
       "  <tbody>\n",
       "    <tr>\n",
       "      <th>1</th>\n",
       "      <td>1.0</td>\n",
       "      <td>süper radyatörlü ısıtıcıları hiçbir şeye değiş...</td>\n",
       "    </tr>\n",
       "    <tr>\n",
       "      <th>2</th>\n",
       "      <td>1.0</td>\n",
       "      <td>klasik audio technica standart berrak ses fiya...</td>\n",
       "    </tr>\n",
       "    <tr>\n",
       "      <th>5</th>\n",
       "      <td>0.0</td>\n",
       "      <td>idare eder idare eder işte ben mikrofonlu diye...</td>\n",
       "    </tr>\n",
       "    <tr>\n",
       "      <th>7</th>\n",
       "      <td>0.0</td>\n",
       "      <td>Berbat bir urun Cok sesli Basligi donmuor cok ...</td>\n",
       "    </tr>\n",
       "    <tr>\n",
       "      <th>8</th>\n",
       "      <td>0.0</td>\n",
       "      <td>alma olumsuz yorumların hepsine katılıyorum ta...</td>\n",
       "    </tr>\n",
       "    <tr>\n",
       "      <th>...</th>\n",
       "      <td>...</td>\n",
       "      <td>...</td>\n",
       "    </tr>\n",
       "    <tr>\n",
       "      <th>254089</th>\n",
       "      <td>0.0</td>\n",
       "      <td>UFO LİNE 1200W GEREKSİZ Evimizde küçük odamızd...</td>\n",
       "    </tr>\n",
       "    <tr>\n",
       "      <th>254090</th>\n",
       "      <td>1.0</td>\n",
       "      <td>kargo inanılmaz hızlı Ürünü cuma günü sipariş ...</td>\n",
       "    </tr>\n",
       "    <tr>\n",
       "      <th>254091</th>\n",
       "      <td>0.0</td>\n",
       "      <td>İşimizi görüyor Ürünü alalı 1 ay kadar oldu ya...</td>\n",
       "    </tr>\n",
       "    <tr>\n",
       "      <th>254094</th>\n",
       "      <td>1.0</td>\n",
       "      <td>harika bir ürün hiç düşünmeden aldım 10 10 200...</td>\n",
       "    </tr>\n",
       "    <tr>\n",
       "      <th>254098</th>\n",
       "      <td>1.0</td>\n",
       "      <td>Note eyeshadow göz kalemi 08 Ürün teslimi 7 şu...</td>\n",
       "    </tr>\n",
       "  </tbody>\n",
       "</table>\n",
       "<p>182997 rows × 2 columns</p>\n",
       "</div>"
      ],
      "text/plain": [
       "       Puan                                              Yorum\n",
       "1       1.0  süper radyatörlü ısıtıcıları hiçbir şeye değiş...\n",
       "2       1.0  klasik audio technica standart berrak ses fiya...\n",
       "5       0.0  idare eder idare eder işte ben mikrofonlu diye...\n",
       "7       0.0  Berbat bir urun Cok sesli Basligi donmuor cok ...\n",
       "8       0.0  alma olumsuz yorumların hepsine katılıyorum ta...\n",
       "...     ...                                                ...\n",
       "254089  0.0  UFO LİNE 1200W GEREKSİZ Evimizde küçük odamızd...\n",
       "254090  1.0  kargo inanılmaz hızlı Ürünü cuma günü sipariş ...\n",
       "254091  0.0  İşimizi görüyor Ürünü alalı 1 ay kadar oldu ya...\n",
       "254094  1.0  harika bir ürün hiç düşünmeden aldım 10 10 200...\n",
       "254098  1.0  Note eyeshadow göz kalemi 08 Ürün teslimi 7 şu...\n",
       "\n",
       "[182997 rows x 2 columns]"
      ]
     },
     "execution_count": 67,
     "metadata": {},
     "output_type": "execute_result"
    }
   ],
   "source": [
    "yorumdf.loc[yorumdf['Puan'] == \"five\", 'Puan'] = 1.0\n",
    "yorumdf.loc[yorumdf['Puan'] == \"four\", 'Puan'] = None\n",
    "yorumdf.loc[yorumdf['Puan'] == \"three\", 'Puan'] = 0.0\n",
    "yorumdf.loc[yorumdf['Puan'] == \"two\", 'Puan'] = 0.0\n",
    "yorumdf.loc[yorumdf['Puan'] == \"one\", 'Puan'] = 0.0\n",
    "\n",
    "yorumdf['Yorum'] = yorumdf['Baslik'] + ' ' + yorumdf['Yorum']\n",
    "del yorumdf['Baslik']\n",
    "yorumdf.loc[yorumdf['Yorum'].str.len() < 10, 'Yorum'] = None\n",
    "\n",
    "yorumdf = yorumdf.dropna()\n",
    "yorumdf"
   ]
  },
  {
   "cell_type": "code",
   "execution_count": 68,
   "metadata": {},
   "outputs": [
    {
     "data": {
      "text/html": [
       "<div>\n",
       "<style scoped>\n",
       "    .dataframe tbody tr th:only-of-type {\n",
       "        vertical-align: middle;\n",
       "    }\n",
       "\n",
       "    .dataframe tbody tr th {\n",
       "        vertical-align: top;\n",
       "    }\n",
       "\n",
       "    .dataframe thead th {\n",
       "        text-align: right;\n",
       "    }\n",
       "</style>\n",
       "<table border=\"1\" class=\"dataframe\">\n",
       "  <thead>\n",
       "    <tr style=\"text-align: right;\">\n",
       "      <th></th>\n",
       "      <th>Puan</th>\n",
       "      <th>Yorum</th>\n",
       "    </tr>\n",
       "  </thead>\n",
       "  <tbody>\n",
       "    <tr>\n",
       "      <th>1</th>\n",
       "      <td>1.0</td>\n",
       "      <td>süper radyatörlü ısıtıcıları hiçbir şeye değiş...</td>\n",
       "    </tr>\n",
       "    <tr>\n",
       "      <th>2</th>\n",
       "      <td>1.0</td>\n",
       "      <td>klasik audio technica standart berrak ses fiya...</td>\n",
       "    </tr>\n",
       "    <tr>\n",
       "      <th>15</th>\n",
       "      <td>1.0</td>\n",
       "      <td>Şaşkınım Siparişim hızlıca elime ulaştı Hemen ...</td>\n",
       "    </tr>\n",
       "    <tr>\n",
       "      <th>17</th>\n",
       "      <td>1.0</td>\n",
       "      <td>harika ilginize cok teşekkür ederim makina gay...</td>\n",
       "    </tr>\n",
       "    <tr>\n",
       "      <th>22</th>\n",
       "      <td>1.0</td>\n",
       "      <td>teşekkürler mağaza çok ilgili herşey on numara...</td>\n",
       "    </tr>\n",
       "    <tr>\n",
       "      <th>...</th>\n",
       "      <td>...</td>\n",
       "      <td>...</td>\n",
       "    </tr>\n",
       "    <tr>\n",
       "      <th>254086</th>\n",
       "      <td>1.0</td>\n",
       "      <td>ısıtması iyi ürünü buradan aldım elektirik sar...</td>\n",
       "    </tr>\n",
       "    <tr>\n",
       "      <th>254088</th>\n",
       "      <td>1.0</td>\n",
       "      <td>zaman Ürünü gerçekten çooook arştırarak burada...</td>\n",
       "    </tr>\n",
       "    <tr>\n",
       "      <th>254090</th>\n",
       "      <td>1.0</td>\n",
       "      <td>kargo inanılmaz hızlı Ürünü cuma günü sipariş ...</td>\n",
       "    </tr>\n",
       "    <tr>\n",
       "      <th>254094</th>\n",
       "      <td>1.0</td>\n",
       "      <td>harika bir ürün hiç düşünmeden aldım 10 10 200...</td>\n",
       "    </tr>\n",
       "    <tr>\n",
       "      <th>254098</th>\n",
       "      <td>1.0</td>\n",
       "      <td>Note eyeshadow göz kalemi 08 Ürün teslimi 7 şu...</td>\n",
       "    </tr>\n",
       "  </tbody>\n",
       "</table>\n",
       "<p>143221 rows × 2 columns</p>\n",
       "</div>"
      ],
      "text/plain": [
       "       Puan                                              Yorum\n",
       "1       1.0  süper radyatörlü ısıtıcıları hiçbir şeye değiş...\n",
       "2       1.0  klasik audio technica standart berrak ses fiya...\n",
       "15      1.0  Şaşkınım Siparişim hızlıca elime ulaştı Hemen ...\n",
       "17      1.0  harika ilginize cok teşekkür ederim makina gay...\n",
       "22      1.0  teşekkürler mağaza çok ilgili herşey on numara...\n",
       "...     ...                                                ...\n",
       "254086  1.0  ısıtması iyi ürünü buradan aldım elektirik sar...\n",
       "254088  1.0  zaman Ürünü gerçekten çooook arştırarak burada...\n",
       "254090  1.0  kargo inanılmaz hızlı Ürünü cuma günü sipariş ...\n",
       "254094  1.0  harika bir ürün hiç düşünmeden aldım 10 10 200...\n",
       "254098  1.0  Note eyeshadow göz kalemi 08 Ürün teslimi 7 şu...\n",
       "\n",
       "[143221 rows x 2 columns]"
      ]
     },
     "execution_count": 68,
     "metadata": {},
     "output_type": "execute_result"
    }
   ],
   "source": [
    "yorum_pos = yorumdf.loc[yorumdf['Puan'] == 1.0]\n",
    "yorum_pos"
   ]
  },
  {
   "cell_type": "code",
   "execution_count": 69,
   "metadata": {},
   "outputs": [
    {
     "data": {
      "text/html": [
       "<div>\n",
       "<style scoped>\n",
       "    .dataframe tbody tr th:only-of-type {\n",
       "        vertical-align: middle;\n",
       "    }\n",
       "\n",
       "    .dataframe tbody tr th {\n",
       "        vertical-align: top;\n",
       "    }\n",
       "\n",
       "    .dataframe thead th {\n",
       "        text-align: right;\n",
       "    }\n",
       "</style>\n",
       "<table border=\"1\" class=\"dataframe\">\n",
       "  <thead>\n",
       "    <tr style=\"text-align: right;\">\n",
       "      <th></th>\n",
       "      <th>Puan</th>\n",
       "      <th>Yorum</th>\n",
       "    </tr>\n",
       "  </thead>\n",
       "  <tbody>\n",
       "    <tr>\n",
       "      <th>5</th>\n",
       "      <td>0.0</td>\n",
       "      <td>idare eder idare eder işte ben mikrofonlu diye...</td>\n",
       "    </tr>\n",
       "    <tr>\n",
       "      <th>7</th>\n",
       "      <td>0.0</td>\n",
       "      <td>Berbat bir urun Cok sesli Basligi donmuor cok ...</td>\n",
       "    </tr>\n",
       "    <tr>\n",
       "      <th>8</th>\n",
       "      <td>0.0</td>\n",
       "      <td>alma olumsuz yorumların hepsine katılıyorum ta...</td>\n",
       "    </tr>\n",
       "    <tr>\n",
       "      <th>10</th>\n",
       "      <td>0.0</td>\n",
       "      <td>Arzu Bende kullanıyorum güzel bir ürün memnun ...</td>\n",
       "    </tr>\n",
       "    <tr>\n",
       "      <th>12</th>\n",
       "      <td>0.0</td>\n",
       "      <td>Çok zayıf Hevesle aldım yaklaşık 1 5 kilo port...</td>\n",
       "    </tr>\n",
       "    <tr>\n",
       "      <th>...</th>\n",
       "      <td>...</td>\n",
       "      <td>...</td>\n",
       "    </tr>\n",
       "    <tr>\n",
       "      <th>254058</th>\n",
       "      <td>0.0</td>\n",
       "      <td>3 puan tasarım olarak güzel ekran kalitesi tat...</td>\n",
       "    </tr>\n",
       "    <tr>\n",
       "      <th>254061</th>\n",
       "      <td>0.0</td>\n",
       "      <td>Parasına göre iş yapar Parasına göre gayet alı...</td>\n",
       "    </tr>\n",
       "    <tr>\n",
       "      <th>254064</th>\n",
       "      <td>0.0</td>\n",
       "      <td>beklentimin çok üzerinde 4 gündür kullanıyoruz...</td>\n",
       "    </tr>\n",
       "    <tr>\n",
       "      <th>254089</th>\n",
       "      <td>0.0</td>\n",
       "      <td>UFO LİNE 1200W GEREKSİZ Evimizde küçük odamızd...</td>\n",
       "    </tr>\n",
       "    <tr>\n",
       "      <th>254091</th>\n",
       "      <td>0.0</td>\n",
       "      <td>İşimizi görüyor Ürünü alalı 1 ay kadar oldu ya...</td>\n",
       "    </tr>\n",
       "  </tbody>\n",
       "</table>\n",
       "<p>39776 rows × 2 columns</p>\n",
       "</div>"
      ],
      "text/plain": [
       "       Puan                                              Yorum\n",
       "5       0.0  idare eder idare eder işte ben mikrofonlu diye...\n",
       "7       0.0  Berbat bir urun Cok sesli Basligi donmuor cok ...\n",
       "8       0.0  alma olumsuz yorumların hepsine katılıyorum ta...\n",
       "10      0.0  Arzu Bende kullanıyorum güzel bir ürün memnun ...\n",
       "12      0.0  Çok zayıf Hevesle aldım yaklaşık 1 5 kilo port...\n",
       "...     ...                                                ...\n",
       "254058  0.0  3 puan tasarım olarak güzel ekran kalitesi tat...\n",
       "254061  0.0  Parasına göre iş yapar Parasına göre gayet alı...\n",
       "254064  0.0  beklentimin çok üzerinde 4 gündür kullanıyoruz...\n",
       "254089  0.0  UFO LİNE 1200W GEREKSİZ Evimizde küçük odamızd...\n",
       "254091  0.0  İşimizi görüyor Ürünü alalı 1 ay kadar oldu ya...\n",
       "\n",
       "[39776 rows x 2 columns]"
      ]
     },
     "execution_count": 69,
     "metadata": {},
     "output_type": "execute_result"
    }
   ],
   "source": [
    "yorum_neg = yorumdf.loc[yorumdf['Puan'] == 0.0]\n",
    "yorum_neg"
   ]
  },
  {
   "cell_type": "code",
   "execution_count": 74,
   "metadata": {},
   "outputs": [
    {
     "data": {
      "text/html": [
       "<div>\n",
       "<style scoped>\n",
       "    .dataframe tbody tr th:only-of-type {\n",
       "        vertical-align: middle;\n",
       "    }\n",
       "\n",
       "    .dataframe tbody tr th {\n",
       "        vertical-align: top;\n",
       "    }\n",
       "\n",
       "    .dataframe thead th {\n",
       "        text-align: right;\n",
       "    }\n",
       "</style>\n",
       "<table border=\"1\" class=\"dataframe\">\n",
       "  <thead>\n",
       "    <tr style=\"text-align: right;\">\n",
       "      <th></th>\n",
       "      <th>Puan</th>\n",
       "      <th>Yorum</th>\n",
       "    </tr>\n",
       "  </thead>\n",
       "  <tbody>\n",
       "    <tr>\n",
       "      <th>23080</th>\n",
       "      <td>1.0</td>\n",
       "      <td>Çak iyi fiyata çok iyi ürün Tam zamanında kusu...</td>\n",
       "    </tr>\n",
       "    <tr>\n",
       "      <th>52724</th>\n",
       "      <td>1.0</td>\n",
       "      <td>Mükemmel Ürün siparişi verdim ve 24 saatten kı...</td>\n",
       "    </tr>\n",
       "    <tr>\n",
       "      <th>247365</th>\n",
       "      <td>0.0</td>\n",
       "      <td>beğenmedim ses seviyesi beklediğimden düşük bu...</td>\n",
       "    </tr>\n",
       "    <tr>\n",
       "      <th>230593</th>\n",
       "      <td>0.0</td>\n",
       "      <td>Klavye Bildiğiniz klavye klavye olduğu için öv...</td>\n",
       "    </tr>\n",
       "    <tr>\n",
       "      <th>25222</th>\n",
       "      <td>0.0</td>\n",
       "      <td>Ucuz çok iyi değil ama idare eder TV nin plast...</td>\n",
       "    </tr>\n",
       "    <tr>\n",
       "      <th>...</th>\n",
       "      <td>...</td>\n",
       "      <td>...</td>\n",
       "    </tr>\n",
       "    <tr>\n",
       "      <th>214867</th>\n",
       "      <td>0.0</td>\n",
       "      <td>Kaliteli Urun Hizli Kargo Pazar gunu siparis v...</td>\n",
       "    </tr>\n",
       "    <tr>\n",
       "      <th>67074</th>\n",
       "      <td>1.0</td>\n",
       "      <td>Harika bir ürün Umduğumdan çok daha iyi görünt...</td>\n",
       "    </tr>\n",
       "    <tr>\n",
       "      <th>39316</th>\n",
       "      <td>1.0</td>\n",
       "      <td>sağlam ve güzel paketleme sağlam ve güzel pake...</td>\n",
       "    </tr>\n",
       "    <tr>\n",
       "      <th>157457</th>\n",
       "      <td>0.0</td>\n",
       "      <td>Kargo rezil Mağaza ilgili değil</td>\n",
       "    </tr>\n",
       "    <tr>\n",
       "      <th>15314</th>\n",
       "      <td>1.0</td>\n",
       "      <td>süper şık ve kaliteli piyasada ki muadil ürünl...</td>\n",
       "    </tr>\n",
       "  </tbody>\n",
       "</table>\n",
       "<p>79552 rows × 2 columns</p>\n",
       "</div>"
      ],
      "text/plain": [
       "       Puan                                              Yorum\n",
       "23080   1.0  Çak iyi fiyata çok iyi ürün Tam zamanında kusu...\n",
       "52724   1.0  Mükemmel Ürün siparişi verdim ve 24 saatten kı...\n",
       "247365  0.0  beğenmedim ses seviyesi beklediğimden düşük bu...\n",
       "230593  0.0  Klavye Bildiğiniz klavye klavye olduğu için öv...\n",
       "25222   0.0  Ucuz çok iyi değil ama idare eder TV nin plast...\n",
       "...     ...                                                ...\n",
       "214867  0.0  Kaliteli Urun Hizli Kargo Pazar gunu siparis v...\n",
       "67074   1.0  Harika bir ürün Umduğumdan çok daha iyi görünt...\n",
       "39316   1.0  sağlam ve güzel paketleme sağlam ve güzel pake...\n",
       "157457  0.0                    Kargo rezil Mağaza ilgili değil\n",
       "15314   1.0  süper şık ve kaliteli piyasada ki muadil ürünl...\n",
       "\n",
       "[79552 rows x 2 columns]"
      ]
     },
     "execution_count": 74,
     "metadata": {},
     "output_type": "execute_result"
    }
   ],
   "source": [
    "yorumdf = pd.concat([yorum_pos.head(39776), yorum_neg])\n",
    "yorumdf = shuffle(yorumdf)\n",
    "yorumdf"
   ]
  },
  {
   "cell_type": "code",
   "execution_count": null,
   "metadata": {},
   "outputs": [],
   "source": [
    "# save to csv file\n",
    "yorumdf.to_csv('yorumlar.csv', index=False)"
   ]
  }
 ],
 "metadata": {
  "kernelspec": {
   "display_name": "Python 3",
   "language": "python",
   "name": "python3"
  },
  "language_info": {
   "codemirror_mode": {
    "name": "ipython",
    "version": 3
   },
   "file_extension": ".py",
   "mimetype": "text/x-python",
   "name": "python",
   "nbconvert_exporter": "python",
   "pygments_lexer": "ipython3",
   "version": "3.9.6"
  },
  "orig_nbformat": 4,
  "vscode": {
   "interpreter": {
    "hash": "31f2aee4e71d21fbe5cf8b01ff0e069b9275f58929596ceb00d14d90e3e16cd6"
   }
  }
 },
 "nbformat": 4,
 "nbformat_minor": 2
}
